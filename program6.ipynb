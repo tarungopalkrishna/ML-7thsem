{
 "metadata": {
  "language_info": {
   "codemirror_mode": {
    "name": "ipython",
    "version": 3
   },
   "file_extension": ".py",
   "mimetype": "text/x-python",
   "name": "python",
   "nbconvert_exporter": "python",
   "pygments_lexer": "ipython3",
   "version": "3.6.9-final"
  },
  "orig_nbformat": 2,
  "kernelspec": {
   "name": "python3",
   "display_name": "Python 3",
   "language": "python"
  }
 },
 "nbformat": 4,
 "nbformat_minor": 2,
 "cells": [
  {
   "cell_type": "code",
   "execution_count": 1,
   "metadata": {},
   "outputs": [],
   "source": [
    "from sklearn.feature_extraction.text import CountVectorizer\n",
    "from sklearn.naive_bayes import MultinomialNB\n",
    "from sklearn.model_selection import train_test_split\n",
    "from sklearn.metrics import accuracy_score\n",
    "import pandas as pd"
   ]
  },
  {
   "cell_type": "code",
   "execution_count": 2,
   "metadata": {},
   "outputs": [
    {
     "output_type": "stream",
     "name": "stdout",
     "text": [
      "                                  message label  lablenum\n0                    I love this sandwich   pos         1\n1                This is an amazing place   pos         1\n2      I feel very good about these beers   pos         1\n3                    This is my best work   pos         1\n4                    What an awesome view   pos         1\n5           I do not like this restaurant   neg         0\n6                I am tired of this stuff   neg         0\n7                  I can't deal with this   neg         0\n8                    He is my sworn enemy   neg         0\n9                     My boss is horrible   neg         0\n10               This is an awesome place   pos         1\n11  I do not like the taste of this juice   neg         0\n12                        I love to dance   pos         1\n13      I am sick and tired of this place   neg         0\n14                   What a great holiday   pos         1\n15         That is a bad locality to stay   neg         0\n16         We will have good fun tomorrow   pos         1\n17       I went to my enemy's house today   neg         0\n"
     ]
    }
   ],
   "source": [
    "data = pd.read_csv(\"./data6.csv\",names=[\"message\",\"label\"])\n",
    "data[\"lablenum\"] = data.label.map({'pos':1,'neg':0})\n",
    "print(data)\n",
    "xtest,xtrain,ytest,ytrain = train_test_split(data.message,data.lablenum,random_state=6,test_size=.4)"
   ]
  },
  {
   "cell_type": "code",
   "execution_count": 3,
   "metadata": {},
   "outputs": [
    {
     "output_type": "stream",
     "name": "stdout",
     "text": [
      "  (0, 6)\t1\n  (0, 18)\t1\n  (0, 15)\t1\n  (0, 28)\t1\n  (0, 20)\t1\n  (1, 25)\t1\n  (1, 13)\t1\n  (1, 2)\t1\n  (1, 16)\t1\n  (1, 30)\t1\n  (1, 21)\t1\n  (2, 8)\t1\n  (2, 31)\t1\n  (2, 9)\t1\n  (2, 0)\t1\n  (2, 27)\t1\n  (2, 3)\t1\n  (3, 6)\t1\n  (3, 18)\t1\n  (3, 15)\t1\n  (3, 28)\t1\n  (3, 26)\t1\n  (3, 24)\t1\n  (3, 19)\t1\n  (3, 14)\t1\n  (4, 13)\t1\n  (4, 11)\t1\n  (4, 17)\t1\n  (4, 23)\t1\n  (4, 7)\t1\n  (5, 28)\t1\n  (5, 4)\t1\n  (5, 5)\t1\n  (5, 33)\t1\n  (6, 28)\t1\n  (6, 19)\t1\n  (6, 1)\t1\n  (6, 29)\t1\n  (6, 22)\t1\n  (7, 32)\t1\n  (7, 10)\t1\n  (7, 12)\t1\n-------------------------\n  (0, 30)\t1\n  (1, 13)\t1\n  (1, 28)\t1\n  (2, 9)\t1\n  (3, 28)\t1\n  (4, 1)\t1\n  (4, 19)\t1\n  (4, 28)\t1\n  (4, 29)\t1\n  (5, 7)\t1\n  (5, 17)\t1\n  (5, 30)\t1\n  (6, 32)\t1\n  (7, 13)\t1\n  (7, 17)\t1\n  (7, 28)\t1\n  (8, 13)\t1\n  (8, 17)\t1\n  (9, 13)\t1\n  (9, 28)\t1\n"
     ]
    }
   ],
   "source": [
    "cv = CountVectorizer()\n",
    "xtrain_dtm = cv.fit_transform(xtrain)\n",
    "xtest_dtm = cv.transform(xtest)\n",
    "print(xtrain_dtm,xtest_dtm,sep=\"\\n-------------------------\\n\")"
   ]
  },
  {
   "cell_type": "code",
   "execution_count": 4,
   "metadata": {},
   "outputs": [
    {
     "output_type": "execute_result",
     "data": {
      "text/plain": [
       "MultinomialNB()"
      ]
     },
     "metadata": {},
     "execution_count": 4
    }
   ],
   "source": [
    "model = MultinomialNB()\n",
    "model.fit(xtrain_dtm,ytrain)"
   ]
  },
  {
   "cell_type": "code",
   "execution_count": 5,
   "metadata": {},
   "outputs": [
    {
     "output_type": "stream",
     "name": "stdout",
     "text": [
      "I do not like this restaurant --> neg\nThat is a bad locality to stay --> neg\nI feel very good about these beers --> pos\nI do not like the taste of this juice --> neg\nHe is my sworn enemy --> neg\nI can't deal with this --> neg\nI am tired of this stuff --> pos\nWhat a great holiday --> neg\n"
     ]
    }
   ],
   "source": [
    "pred = model.predict(xtest_dtm)\n",
    "\n",
    "for a,p in zip(xtrain,pred):\n",
    "    p = 'pos' if p == 1 else 'neg'\n",
    "    print(a,\"-->\",p)"
   ]
  },
  {
   "cell_type": "code",
   "execution_count": 6,
   "metadata": {},
   "outputs": [
    {
     "output_type": "stream",
     "name": "stdout",
     "text": [
      "0.5\n"
     ]
    }
   ],
   "source": [
    "print(accuracy_score(ytest,pred))"
   ]
  },
  {
   "cell_type": "code",
   "execution_count": null,
   "metadata": {},
   "outputs": [],
   "source": []
  }
 ]
}