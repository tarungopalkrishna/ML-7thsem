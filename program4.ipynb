{
 "metadata": {
  "language_info": {
   "codemirror_mode": {
    "name": "ipython",
    "version": 3
   },
   "file_extension": ".py",
   "mimetype": "text/x-python",
   "name": "python",
   "nbconvert_exporter": "python",
   "pygments_lexer": "ipython3",
   "version": "3.6.9-final"
  },
  "orig_nbformat": 2,
  "kernelspec": {
   "name": "python3",
   "display_name": "Python 3",
   "language": "python"
  }
 },
 "nbformat": 4,
 "nbformat_minor": 2,
 "cells": [
  {
   "cell_type": "code",
   "execution_count": 19,
   "metadata": {},
   "outputs": [],
   "source": [
    "import numpy as np"
   ]
  },
  {
   "cell_type": "code",
   "execution_count": 20,
   "metadata": {},
   "outputs": [],
   "source": [
    "x = np.array(([2,9],[1,5],[3,6]),dtype=float)\n",
    "y = np.array(([92],[86],[89]),dtype=float)\n",
    "x = x/np.amax(x,axis=0)\n",
    "y = y/100"
   ]
  },
  {
   "cell_type": "code",
   "execution_count": 28,
   "metadata": {},
   "outputs": [
    {
     "output_type": "stream",
     "name": "stdout",
     "text": [
      "(2, 3)\n(1, 3)\n(3, 1)\n(1, 1)\n"
     ]
    }
   ],
   "source": [
    "ephocs = 7000\n",
    "lr = 0.05\n",
    "ip_neurons = 2\n",
    "hidd_neurons=3\n",
    "op_neurons = 1\n",
    "wh = np.random.uniform(size=(ip_neurons,hidd_neurons))\n",
    "bh = np.random.uniform(size=(1,hidd_neurons))\n",
    "wo = np.random.uniform(size=(hidd_neurons,op_neurons))\n",
    "bo = np.random.uniform(size=(1,op_neurons))\n",
    "print(wh.shape,bh.shape,wo.shape,bo.shape,sep=\"\\n\")"
   ]
  },
  {
   "cell_type": "code",
   "execution_count": 29,
   "metadata": {},
   "outputs": [],
   "source": [
    "def sigmoid(x):\n",
    "    return 1/(1+np.exp(-x))\n",
    "def der_sigmoid(x):\n",
    "    return x*(1-x)"
   ]
  },
  {
   "cell_type": "code",
   "execution_count": 30,
   "metadata": {},
   "outputs": [
    {
     "output_type": "stream",
     "name": "stdout",
     "text": [
      "input:\n[[0.66666667 1.        ]\n [0.33333333 0.55555556]\n [1.         0.66666667]]\nactual output:\n[[0.92]\n [0.86]\n [0.89]]\npredicted output:\n [[0.89406173]\n [0.87961199]\n [0.89554681]]\n"
     ]
    }
   ],
   "source": [
    "for _ in range(ephocs):\n",
    "    hlayer = sigmoid((np.dot(x,wh) + bh))\n",
    "    olayer = sigmoid((np.dot(hlayer,wo) + bo))\n",
    "\n",
    "    d_op = (y-olayer) * der_sigmoid(olayer)\n",
    "    d_hidd = (d_op.dot(wo.T)) * der_sigmoid(hlayer)\n",
    "\n",
    "    wo += hlayer.T.dot(d_op)\n",
    "    wh += x.T.dot(d_hidd) * lr\n",
    "\n",
    "print(\"input:\\n\"+str(x))\n",
    "print(\"actual output:\\n\" + str(y))\n",
    "print(\"predicted output:\\n\" ,olayer)"
   ]
  }
 ]
}