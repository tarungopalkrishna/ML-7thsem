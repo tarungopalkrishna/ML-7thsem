{
 "metadata": {
  "language_info": {
   "codemirror_mode": {
    "name": "ipython",
    "version": 3
   },
   "file_extension": ".py",
   "mimetype": "text/x-python",
   "name": "python",
   "nbconvert_exporter": "python",
   "pygments_lexer": "ipython3",
   "version": "3.6.9-final"
  },
  "orig_nbformat": 2,
  "kernelspec": {
   "name": "python3",
   "display_name": "Python 3",
   "language": "python"
  }
 },
 "nbformat": 4,
 "nbformat_minor": 2,
 "cells": [
  {
   "cell_type": "code",
   "execution_count": 1,
   "metadata": {},
   "outputs": [],
   "source": [
    "import csv"
   ]
  },
  {
   "cell_type": "code",
   "execution_count": 14,
   "metadata": {},
   "outputs": [],
   "source": [
    "with open(\"data2.csv\") as fl:\n",
    "    csv_data = csv.reader(fl)\n",
    "\n",
    "    data = list(csv_data)"
   ]
  },
  {
   "cell_type": "code",
   "execution_count": 15,
   "metadata": {},
   "outputs": [
    {
     "output_type": "stream",
     "name": "stdout",
     "text": [
      "Updating specific hypothesis: ['sunny', 'warm', 'normal', 'strong', 'warmer', 'same']\nUpdating general hypothesis: ['?', '?', '?', '?', '?', '?', '?']\n--------------------------------------------------------------------------------\nUpdating specific hypothesis: ['sunny', 'warm', '?', 'strong', 'warmer', 'same']\nUpdating general hypothesis: ['?', '?', '?', '?', '?', '?', '?']\n--------------------------------------------------------------------------------\nUpdating specific hypothesis: ['sunny', 'warm', '?', 'strong', 'warmer', 'same']\nUpdating general hypothesis: ['sunny', 'warm', '?', '?', '?', 'same', '?']\n--------------------------------------------------------------------------------\nUpdating specific hypothesis: ['sunny', 'warm', '?', 'strong', '?', '?']\nUpdating general hypothesis: ['sunny', 'warm', '?', '?', '?', '?', '?']\n--------------------------------------------------------------------------------\nFinal specific hypothesis: ['sunny', 'warm', '?', 'strong', '?', '?']\nFinal general hypothesis: [['sunny', '?', '?', '?', '?', '?', '?'], ['?', 'warm', '?', '?', '?', '?', '?']]\n"
     ]
    }
   ],
   "source": [
    "h_s = data[0][:-1]\n",
    "h_g = [\"?\"] * len(data[0])\n",
    "\n",
    "for row in data:\n",
    "    case = row[-1]\n",
    "    data = row[:-1]\n",
    "    if(case.lower() == \"yes\"):\n",
    "        for i,e in enumerate(data):\n",
    "            if(h_s[i] != e):\n",
    "                h_s[i] = \"?\"\n",
    "                h_g[i] = \"?\"\n",
    "    elif(case.lower() == \"no\"):\n",
    "        for i,e in enumerate(data):\n",
    "            if(h_s[i] != e):\n",
    "                h_g[i] = h_s[i]\n",
    "    print(\"Updating specific hypothesis:\",h_s)\n",
    "    print(\"Updating general hypothesis:\",h_g)\n",
    "    print(\"-\"*80)\n",
    "f_h_g = []\n",
    "for i,a in enumerate(h_g):\n",
    "    x = [\"?\"] * len(h_g)\n",
    "    x[i] = a\n",
    "    if(x != [\"?\"] * len(h_g)):\n",
    "        f_h_g.append(x)\n",
    "print(\"Final specific hypothesis:\",h_s)\n",
    "print(\"Final general hypothesis:\",f_h_g)"
   ]
  },
  {
   "cell_type": "code",
   "execution_count": null,
   "metadata": {},
   "outputs": [],
   "source": []
  }
 ]
}