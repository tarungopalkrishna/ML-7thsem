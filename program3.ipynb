{
 "metadata": {
  "language_info": {
   "codemirror_mode": {
    "name": "ipython",
    "version": 3
   },
   "file_extension": ".py",
   "mimetype": "text/x-python",
   "name": "python",
   "nbconvert_exporter": "python",
   "pygments_lexer": "ipython3",
   "version": "3.6.9-final"
  },
  "orig_nbformat": 2,
  "kernelspec": {
   "name": "python3",
   "display_name": "Python 3",
   "language": "python"
  }
 },
 "nbformat": 4,
 "nbformat_minor": 2,
 "cells": [
  {
   "cell_type": "code",
   "execution_count": 2,
   "metadata": {},
   "outputs": [],
   "source": [
    "import pandas as pd\n",
    "from math import log\n",
    "from pprint import pprint"
   ]
  },
  {
   "cell_type": "code",
   "execution_count": 8,
   "metadata": {},
   "outputs": [],
   "source": [
    "def entropy(pos, neg):\n",
    "    if pos == 0 or neg == 0:\n",
    "        return 0\n",
    "    tot = pos + neg\n",
    "    return -pos / tot * log(pos / tot, 2) - neg / tot * log(neg / tot, 2)\n",
    "\n",
    "def gain(data, attr, pos, neg):\n",
    "    print(\"attr\",attr)\n",
    "    d, E, acu = {}, entropy(pos, neg), 0\n",
    "    for i in data:\n",
    "        if i[attr] not in d:\n",
    "            d[i[attr]] = {}\n",
    "        d[i[attr]][i[-1]] = 1 + d[i[attr]].get(i[-1], 0)\n",
    "    for i in d:\n",
    "        tot = d[i].get('Yes', 0) + d[i].get('No', 0)\n",
    "        acu += tot / (pos + neg) * entropy(d[i].get('Yes', 0),d[i].get('No', 0))\n",
    "    return E - acu\n",
    "\n",
    "def build(data, attr_names):\n",
    "    pos, sz = len([x for x in data if x[-1] == 'Yes']), len(data[0]) - 1\n",
    "    neg = len(data) - pos\n",
    "    print(pos,neg)\n",
    "    if neg == 0 or pos == 0:\n",
    "        return 'Yes' if neg == 0 else 'No'\n",
    "    root = max([[gain(data, i, pos, neg), i] for i in range(sz)])[1]\n",
    "    fin, res = {}, {}\n",
    "    uniq_attr = set([x[root] for x in data])\n",
    "    for i in uniq_attr:\n",
    "        res[i] = build([x[:root] + x[root + 1:] for x in data if x[root]== i], attr_names[:root] + attr_names[root+1:])\n",
    "    fin[attr_names[root]] = res\n",
    "    return fin"
   ]
  },
  {
   "cell_type": "code",
   "execution_count": 9,
   "metadata": {},
   "outputs": [
    {
     "output_type": "stream",
     "name": "stdout",
     "text": [
      "[['Sunny', 'Hot', 'High', 'Weak', 'No'], ['Sunny', 'Hot', 'High', 'Strong', 'No'], ['Overcast', 'Hot', 'High', 'Weak', 'Yes'], ['Rainy', 'Mild', 'High', 'Weak', 'Yes'], ['Rainy', 'Cool', 'Normal', 'Weak', 'Yes'], ['Rainy', 'Cool', 'Normal', 'Strong', 'No'], ['Overcast', 'Cool', 'Normal', 'Strong', 'Yes'], ['Sunny', 'Mild', 'High', 'Weak', 'No'], ['Sunny', 'Cool', 'Normal', 'Weak', 'Yes'], ['Rainy', 'Mild', 'Normal', 'Weak', 'Yes'], ['Sunny', 'Mild', 'Normal', 'Strong', 'Yes'], ['Overcast', 'Mild', 'High', 'Strong', 'Yes'], ['Overcast', 'Hot', 'Normal', 'Weak', 'Yes'], ['Rainy', 'Mild', 'High', 'Strong', 'No']]\n['Outlook', 'Temperature', 'Humidity', 'Windy', 'PlayTennis']\n9 5\nattr 0\nattr 1\nattr 2\nattr 3\n3 2\nattr 0\nattr 1\nattr 2\n0 2\n3 0\n2 3\nattr 0\nattr 1\nattr 2\n2 0\n0 3\n4 0\n{'Outlook': {'Overcast': 'Yes',\n             'Rainy': {'Windy': {'Strong': 'No', 'Weak': 'Yes'}},\n             'Sunny': {'Humidity': {'High': 'No', 'Normal': 'Yes'}}}}\n"
     ]
    }
   ],
   "source": [
    "df = pd.read_csv('./data3.csv')\n",
    "data = df.values.tolist()\n",
    "attr_names = df.columns.values.tolist()\n",
    "print(data)\n",
    "print(attr_names)\n",
    "tree = build(data, attr_names)\n",
    "pprint(tree)"
   ]
  },
  {
   "cell_type": "code",
   "execution_count": null,
   "metadata": {},
   "outputs": [],
   "source": []
  }
 ]
}