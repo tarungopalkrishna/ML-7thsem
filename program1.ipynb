{
 "metadata": {
  "language_info": {
   "codemirror_mode": {
    "name": "ipython",
    "version": 3
   },
   "file_extension": ".py",
   "mimetype": "text/x-python",
   "name": "python",
   "nbconvert_exporter": "python",
   "pygments_lexer": "ipython3",
   "version": "3.6.9-final"
  },
  "orig_nbformat": 2,
  "kernelspec": {
   "name": "python3",
   "display_name": "Python 3",
   "language": "python"
  }
 },
 "nbformat": 4,
 "nbformat_minor": 2,
 "cells": [
  {
   "cell_type": "code",
   "execution_count": 9,
   "metadata": {},
   "outputs": [],
   "source": [
    "import csv"
   ]
  },
  {
   "cell_type": "code",
   "execution_count": 10,
   "metadata": {},
   "outputs": [],
   "source": [
    "with open(\"./data1.csv\") as fl:\n",
    "    csv_data = csv.reader(fl)\n",
    "    \n",
    "    data = []\n",
    "    for row in csv_data:\n",
    "        if(row[-1].lower() == \"yes\"):\n",
    "            data.append(row[:-1])\n",
    "# print(data)"
   ]
  },
  {
   "cell_type": "code",
   "execution_count": 11,
   "metadata": {},
   "outputs": [
    {
     "output_type": "stream",
     "name": "stdout",
     "text": [
      "Updating hypothesis to: ['sunny', 'warm', 'normal', 'strong', 'warmer', 'same']\nUpdating hypothesis to: ['sunny', 'warm', '?', 'strong', 'warmer', 'same']\nUpdating hypothesis to: ['sunny', 'warm', '?', 'strong', '?', '?']\n"
     ]
    }
   ],
   "source": [
    "# h = ['0'] * len(data[0])\n",
    "h = data[0]\n",
    "for row in data:\n",
    "    for i,e in enumerate(row):\n",
    "        if(h[i] != e):\n",
    "            h[i] = \"?\"\n",
    "    print(\"Updating hypothesis to:\",h)\n"
   ]
  },
  {
   "cell_type": "code",
   "execution_count": 18,
   "metadata": {},
   "outputs": [
    {
     "output_type": "stream",
     "name": "stdout",
     "text": [
      "abc\n"
     ]
    }
   ],
   "source": [
    "#Test cases\n",
    "test = input(\"Enter case:\").split(\" \")\n",
    "bl = False\n",
    "for a,b in zip(test,h):\n",
    "    if((a != b) or (h != \"?\")):\n",
    "        bl = True\n",
    "        break\n",
    "# print(bl)\n",
    "print(\"abc\")"
   ]
  },
  {
   "cell_type": "code",
   "execution_count": 16,
   "metadata": {},
   "outputs": [
    {
     "output_type": "stream",
     "name": "stdout",
     "text": [
      "Negative instance\n"
     ]
    }
   ],
   "source": [
    "t_data = input(\"Test data:\").split(\" \")\n",
    "case = True\n",
    "for a,b in zip(t_data,h):\n",
    "    if(not(a == b or b == \"?\")):\n",
    "        case = False\n",
    "        print(\"Negative instance\")\n",
    "        break\n",
    "if(case):\n",
    "    print(\"Positive case\")"
   ]
  },
  {
   "cell_type": "code",
   "execution_count": null,
   "metadata": {},
   "outputs": [],
   "source": []
  }
 ]
}